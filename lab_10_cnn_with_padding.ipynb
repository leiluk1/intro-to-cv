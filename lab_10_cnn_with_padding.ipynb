{
  "cells": [
    {
      "cell_type": "markdown",
      "metadata": {
        "id": "QkZ9_2xFUzdU"
      },
      "source": [
        "# Introduction to Computer Vision - Lab 10"
      ]
    },
    {
      "cell_type": "markdown",
      "metadata": {
        "id": "a9DCQAaFFQyw"
      },
      "source": [
        "## Task 1\n",
        "\n",
        "Incorporate padding to your convolutional neural network you are developing this week."
      ]
    },
    {
      "cell_type": "code",
      "execution_count": 1,
      "metadata": {
        "id": "LFJ23Sa5U-pa"
      },
      "outputs": [],
      "source": [
        "import numpy as np\n",
        "from tqdm import tqdm\n",
        "\n",
        "np.random.seed(0)\n",
        "import tensorflow as tf\n",
        "from tensorflow.keras import datasets\n",
        "import matplotlib.pyplot as plt"
      ]
    },
    {
      "cell_type": "markdown",
      "metadata": {},
      "source": [
        "### Load and preprocess the dataset"
      ]
    },
    {
      "cell_type": "code",
      "execution_count": null,
      "metadata": {
        "id": "3Q11tzNkIlLc",
        "outputId": "f21f6214-3d2c-4e52-8da7-c72cd0b3acaa"
      },
      "outputs": [],
      "source": [
        "# load the MNIST dataset\n",
        "(x_train, y_train), (x_test, y_test) = datasets.mnist.load_data()"
      ]
    },
    {
      "cell_type": "code",
      "execution_count": 3,
      "metadata": {
        "id": "pEp_yT72IlLd"
      },
      "outputs": [],
      "source": [
        "# decrease the size of the dataset because of the computational cost\n",
        "x_train, y_train, x_test, y_test = x_train[:5000], y_train[:5000], x_test[:1000], y_test[:1000]\n",
        "\n",
        "# shuffle the train set images\n",
        "indices = np.arange(len(x_train))\n",
        "np.random.shuffle(indices)\n",
        "x_train, y_train = x_train[indices], y_train[indices]"
      ]
    },
    {
      "cell_type": "code",
      "execution_count": 4,
      "metadata": {
        "colab": {
          "base_uri": "https://localhost:8080/",
          "height": 235
        },
        "id": "VuFuPz24IlLd",
        "outputId": "e3e393ce-ce40-4ab4-de8e-21fb811d3bcb"
      },
      "outputs": [
        {
          "data": {
            "image/png": "[encoded data removed]",
            "text/plain": [
              "<Figure size 640x480 with 4 Axes>"
            ]
          },
          "metadata": {},
          "output_type": "display_data"
        }
      ],
      "source": [
        "# plot the first images from training set with the corresponding labels\n",
        "fig, axs = plt.subplots(nrows=1, ncols=4)\n",
        "\n",
        "for i in range(4):\n",
        "    ax = axs[i]\n",
        "    ax.imshow(x_train[i], cmap='gray')\n",
        "    ax.set(xticklabels=[], yticklabels=[], xticks=[], yticks=[])\n",
        "    ax.set_title(y_train[i],\n",
        "                 fontsize=9,\n",
        "                 y=-0.15)\n",
        "\n",
        "plt.suptitle('Train images from MNIST datasat',\n",
        "             y=0.7)\n",
        "plt.tight_layout()\n",
        "plt.show()"
      ]
    },
    {
      "cell_type": "code",
      "execution_count": 5,
      "metadata": {
        "colab": {
          "base_uri": "https://localhost:8080/"
        },
        "id": "IdhOunQUIlLe",
        "outputId": "1a84d8ea-c6a7-4709-d2ba-1a069bd3ec49"
      },
      "outputs": [
        {
          "data": {
            "text/plain": [
              "(1, 28, 28)"
            ]
          },
          "execution_count": 5,
          "metadata": {},
          "output_type": "execute_result"
        }
      ],
      "source": [
        "# reshape the images \n",
        "x_train = x_train.reshape(-1, 1, 28, 28)\n",
        "x_test = x_test.reshape(-1, 1, 28, 28)\n",
        "x_train[0].shape"
      ]
    },
    {
      "cell_type": "code",
      "execution_count": 6,
      "metadata": {
        "colab": {
          "base_uri": "https://localhost:8080/"
        },
        "id": "IREwWbGlIlLe",
        "outputId": "1f3022df-d138-4553-9d9e-2957548fc3b5"
      },
      "outputs": [
        {
          "name": "stdout",
          "output_type": "stream",
          "text": [
            "[0. 1. 0. 0. 0. 0. 0. 0. 0. 0.]\n",
            "(10,)\n"
          ]
        }
      ],
      "source": [
        "# represent each label as a true label vector with zeros and 1 on the label position\n",
        "def vectorize_y(y):\n",
        "    y_vec = np.zeros((len(y), 10)) # since there are 10 possible labels\n",
        "    for i in range(len(y)):\n",
        "        y_vec[i, y[i]] = 1\n",
        "    return y_vec\n",
        "\n",
        "\n",
        "# vectorize\n",
        "y_train_vec = vectorize_y(y_train)\n",
        "print(y_train_vec[0])\n",
        "print(y_train_vec[0].shape)"
      ]
    },
    {
      "cell_type": "markdown",
      "metadata": {},
      "source": [
        "### Convolutional Layer with padding added"
      ]
    },
    {
      "cell_type": "code",
      "execution_count": 7,
      "metadata": {
        "id": "32-yd_muVffw"
      },
      "outputs": [],
      "source": [
        "# Class representing the Convolutional Node with padding added\n",
        "class ConvNode:\n",
        "\n",
        "    def __init__(self, padding):\n",
        "        self.Zk_prev = None # the previous feature map\n",
        "        self.Wk = None # the filter\n",
        "        self.padding = padding # padding size\n",
        "\n",
        "    def forward(self, Zk_prev, Wk):\n",
        "        # Forward propagation\n",
        "        self.Zk_prev = Zk_prev\n",
        "        self.Wk = Wk\n",
        "\n",
        "        # Apply convolution operation\n",
        "        depth, h, w = self.Zk_prev.shape\n",
        "        _, hw, ww = self.Wk.shape\n",
        "        \n",
        "        # Apply padding to the input feature map\n",
        "        self.Zk_prev = np.pad(self.Zk_prev, ((0, 0), \n",
        "                                             (self.padding, self.padding), \n",
        "                                             (self.padding, self.padding)), \n",
        "                              mode='constant')\n",
        "        \n",
        "        Zk_h = h + 2 * self.padding - hw + 1\n",
        "        Zk_w = w + 2 * self.padding - ww + 1\n",
        "\n",
        "        Zk = np.zeros((Zk_h, Zk_w))\n",
        "\n",
        "        for d in range(depth):\n",
        "            Zk += self.convolve(self.Zk_prev[d, :, :], self.Wk[d, :, :])\n",
        "\n",
        "        return Zk\n",
        "\n",
        "    def backward(self, dL_dZk):\n",
        "        # Bacward propagation\n",
        "        dL_dWk = np.zeros_like(self.Wk)\n",
        "        dL_dZk_prev = np.zeros_like(self.Zk_prev)\n",
        "\n",
        "        # Compute gradients using formulas (5) and (9) from lecture slides\n",
        "        for d_i in range(self.Wk.shape[0]):\n",
        "            dL_dWk[d_i, :, :] = self.convolve(self.Zk_prev[d_i, :, :], dL_dZk)\n",
        "            dL_dZk_prev[d_i, :, :] = self.convolve(self.pad(dL_dZk, self.Wk),\n",
        "                                                   self.rotate(self.Wk[d_i, :, :]))\n",
        "        \n",
        "        # Remove padding from gradients\n",
        "        dL_dZk_prev = dL_dZk_prev[:, self.padding:-self.padding, self.padding:-self.padding]\n",
        "        dL_dWk = dL_dWk[:, self.padding:-self.padding, self.padding:-self.padding]\n",
        "        \n",
        "        return dL_dWk, dL_dZk_prev\n",
        "\n",
        "    def convolve(self, X, W):\n",
        "        # Convolution operation between X and W that produces the matrix Z\n",
        "        h, w = X.shape\n",
        "        hw, ww = W.shape\n",
        "\n",
        "        Z_h = h - hw + 1\n",
        "        Z_w = w - ww + 1\n",
        "        Z = np.zeros((Z_h, Z_w))\n",
        "\n",
        "        for i in range(Z_h):\n",
        "            for j in range(Z_w):\n",
        "                Z[i, j] = np.sum(X[i:i+hw, j:j+ww] * W)\n",
        "\n",
        "        return Z\n",
        "\n",
        "    def rotate(self, Z):\n",
        "        # Rotate the matrix Z by 180 degrees\n",
        "        return np.flip(np.flip(Z, 1), 0)\n",
        "\n",
        "    def pad(self, Z, Wk):\n",
        "        # Pad the matrix Z with zeros\n",
        "        return np.pad(Z, ((Wk.shape[1]-1, Wk.shape[1]-1),\n",
        "                          (Wk.shape[2]-1, Wk.shape[2]-1)),\n",
        "                        mode='constant')\n"
      ]
    },
    {
      "cell_type": "code",
      "execution_count": 8,
      "metadata": {
        "id": "ZsHeCj7L9DZT"
      },
      "outputs": [],
      "source": [
        "# Class representing the Convolutional Layer\n",
        "class ConvLayer:\n",
        "\n",
        "    def __init__(self, D, filter_shape, Bk, padding=0):\n",
        "        # D - number of filters\n",
        "        self.D = D\n",
        "        self.padding = padding\n",
        "        # initialize the D filters\n",
        "        self.filters = np.array([np.random.randn(*filter_shape) / 9 for _ in range(D)])\n",
        "        self.conv_nodes = [ConvNode(padding) for _ in range(D)]\n",
        "        self.Bk = Bk\n",
        "        self.Zk = np.zeros_like(Bk)\n",
        "\n",
        "    def forward(self, Zk_prev):\n",
        "        # forward propagation\n",
        "        self.Zk_prev = Zk_prev\n",
        "        self.Zk = np.zeros_like(self.Bk)\n",
        "\n",
        "        # apply convolution operation for each filter and after add bias\n",
        "        for d in range(self.D):\n",
        "            Zk_tilde = self.conv_nodes[d].forward(self.Zk_prev, self.filters[d])\n",
        "            self.Zk[d, :, :] = Zk_tilde + self.Bk[d, :, :]\n",
        "\n",
        "        return self.Zk\n",
        "\n",
        "    def backward(self, dL_dZk):\n",
        "        # backward propagation\n",
        "        dL_dBk = dL_dZk\n",
        "        \n",
        "        dL_dWks = np.zeros_like(self.filters)\n",
        "        dL_dZk_prev = np.zeros_like(self.Zk_prev)\n",
        "\n",
        "        # compute gradients using formulas from lecture slides\n",
        "        for d in range(self.D):\n",
        "            dL_dWk, dL_dZk_prev_d = self.conv_nodes[d].backward(dL_dZk[d, :, :])\n",
        "            dL_dWks[d] = dL_dWk\n",
        "            dL_dZk_prev += dL_dZk_prev_d\n",
        "\n",
        "        return dL_dBk, dL_dWks, dL_dZk_prev"
      ]
    },
    {
      "cell_type": "markdown",
      "metadata": {},
      "source": [
        "### Activation functions"
      ]
    },
    {
      "cell_type": "code",
      "execution_count": 9,
      "metadata": {
        "id": "BiQhCRBoGjmu"
      },
      "outputs": [],
      "source": [
        "# Class representing the ReLU node (from the previous labs)\n",
        "class ReLU:\n",
        "\n",
        "    def __init__(self):\n",
        "        self.x = None  # input values\n",
        "\n",
        "    def forward(self, x):\n",
        "        # calculate output of relu function\n",
        "        self.x = x\n",
        "        return np.maximum(0, self.x)\n",
        "\n",
        "    def backward(self, loss_grad):\n",
        "        # compute gradients with respect to the input values\n",
        "        relu_der = np.where(self.x < 0, 0, 1) # local gradient of relu\n",
        "        grad = relu_der * loss_grad\n",
        "        return grad"
      ]
    },
    {
      "cell_type": "code",
      "execution_count": 10,
      "metadata": {
        "id": "Hzea_VMFGVG8"
      },
      "outputs": [],
      "source": [
        "# Class representing the Softmax node (from the previous labs)\n",
        "class SoftmaxNode:\n",
        "\n",
        "    def __init__(self):\n",
        "        self.y_hat = None  # output of forward propagation\n",
        "        self.grad = None  # gradient with respect to the input x (result of backward propagation)\n",
        "\n",
        "    def forward(self, x):\n",
        "        # calculate output of the softmax function with normalization\n",
        "        self.x = x\n",
        "        self.x_norm = self.x / np.max(np.abs(self.x))\n",
        "        e_x = np.exp(self.x_norm)\n",
        "        self.y_hat = e_x / np.sum(e_x)\n",
        "        return self.y_hat\n",
        "\n",
        "    def backward(self, loss_grad):\n",
        "        # compute gradients\n",
        "        self.y_hat = self.y_hat.reshape(-1)\n",
        "\n",
        "        softmax_grad = loss_grad * self.y_hat * (1 - self.y_hat)  # derivative of softmax\n",
        "\n",
        "        softmax_grad = softmax_grad.reshape(-1)\n",
        "        self.x = self.x.reshape(-1)\n",
        "\n",
        "        grad = np.dot(self.x, softmax_grad) / (-np.max(np.abs(self.x))**2)\n",
        "\n",
        "        self.grad = np.zeros_like(self.x, dtype=float)\n",
        "        self.grad[np.argmax(self.x)] = grad\n",
        "        self.grad *= np.sign(self.x)\n",
        "        self.grad += softmax_grad * (1 / np.max(np.abs(self.x)))\n",
        "\n",
        "        if np.max(np.abs(self.x)) < 1e-6:\n",
        "            raise Exception(\"biba\")\n",
        "\n",
        "        return self.grad.reshape(-1, 1)"
      ]
    },
    {
      "cell_type": "markdown",
      "metadata": {},
      "source": [
        "### Vectorization Layer"
      ]
    },
    {
      "cell_type": "code",
      "execution_count": 11,
      "metadata": {
        "id": "5Ja2NxjhHZVN"
      },
      "outputs": [],
      "source": [
        "# Class representing the Vectorization Layer\n",
        "class VectorizationLayer:\n",
        "    def __init__(self):\n",
        "        self.input_shape = None\n",
        "\n",
        "    def forward(self, X):\n",
        "        self.input_shape = X.shape\n",
        "        return X.reshape(-1, 1)\n",
        "\n",
        "    def backward(self, dL_dZ):\n",
        "        return dL_dZ.reshape(self.input_shape)"
      ]
    },
    {
      "cell_type": "markdown",
      "metadata": {},
      "source": [
        "### Fully-Connected Layer"
      ]
    },
    {
      "cell_type": "code",
      "execution_count": 12,
      "metadata": {
        "id": "J33dqkHKIlLf"
      },
      "outputs": [],
      "source": [
        "# Matrix multiplication node (from the previous labs)\n",
        "class MulNode:\n",
        "\n",
        "    def __init__(self):\n",
        "        self.w = None  # input matrix W\n",
        "        self.x = None  # input values x\n",
        "        self.grad = None  # gradient with respect to W (result of backward propagation)\n",
        "\n",
        "    def forward(self, w, x):\n",
        "        # calculate output of multiplication W*X\n",
        "        self.w, self.x = w, x\n",
        "        return np.matmul(self.w, self.x)\n",
        "\n",
        "    def backward(self, dL_dz):\n",
        "        # compute gradient with respect to W\n",
        "        dz_dw = self.x.reshape((1, self.x.shape[0]))\n",
        "        self.grad = np.matmul(dL_dz, dz_dw)\n",
        "        return self.grad"
      ]
    },
    {
      "cell_type": "code",
      "execution_count": 13,
      "metadata": {
        "id": "wZ5gJrr5IlLg"
      },
      "outputs": [],
      "source": [
        "# Class representing the Fully Connected Layer\n",
        "class FullyConnectedLayer:\n",
        "\n",
        "    def __init__(self):\n",
        "        self.mult = MulNode()\n",
        "        self.relu = ReLU()\n",
        "\n",
        "    def forward(self, X, W, b):\n",
        "        # forward propagation\n",
        "        self.W = W\n",
        "        Z = self.mult.forward(self.W, X)\n",
        "        return Z + b\n",
        "\n",
        "    def backward(self, dL_dZ):\n",
        "        # backward propagation\n",
        "        dL_db = dL_dZ\n",
        "        dL_dW = self.mult.backward(dL_dZ)\n",
        "        dL_dX = np.dot(np.transpose(self.W), dL_dZ)\n",
        "        return dL_db, dL_dW, dL_dX"
      ]
    },
    {
      "cell_type": "markdown",
      "metadata": {},
      "source": [
        "### Define model architecture"
      ]
    },
    {
      "cell_type": "code",
      "execution_count": 14,
      "metadata": {
        "id": "oawhzD6dIlLg"
      },
      "outputs": [],
      "source": [
        "# Class representing the Convolutional Neural Network from the lecture slide 22\n",
        "class CNN:\n",
        "    \n",
        "    def __init__(self):\n",
        "        self.b1 = np.zeros((1, 28, 28))\n",
        "        self.b2 = np.zeros((1, 28, 28))\n",
        "        self.b3 = np.zeros((10, 1))\n",
        "        self.W3 = np.random.randn(10, 28*28) / 10\n",
        "        self.conv_layer1 = ConvLayer(D=1, filter_shape=(1, 5, 5), Bk=self.b1, padding=2)\n",
        "        self.relu1 = ReLU()\n",
        "        self.conv_layer2 = ConvLayer(D=1, filter_shape=(1, 3, 3), Bk=self.b2, padding=1)\n",
        "        self.relu2 = ReLU()\n",
        "        self.vectorize = VectorizationLayer()\n",
        "        self.fc = FullyConnectedLayer()\n",
        "        self.softmax = SoftmaxNode()\n",
        "\n",
        "    def forward(self, X):\n",
        "        # forward propagation\n",
        "        Z = self.conv_layer1.forward(X)\n",
        "        Z = self.relu1.forward(Z)\n",
        "        Z = self.conv_layer2.forward(Z)\n",
        "        Z = self.relu2.forward(Z)\n",
        "        Z = self.vectorize.forward(Z)\n",
        "        Z = self.fc.forward(Z, self.W3, self.b3)\n",
        "        Z = self.softmax.forward(Z)\n",
        "        return Z\n",
        "\n",
        "    def backward(self, dL_dZ):\n",
        "        # backward propagation\n",
        "        dL_dz = self.softmax.backward(dL_dZ)\n",
        "        dL_db3, dL_dW3, dL_dz = self.fc.backward(dL_dz)\n",
        "        dL_dz = self.vectorize.backward(dL_dz)\n",
        "        dL_dz = self.relu2.backward(dL_dz)\n",
        "        dL_dB2, dL_dW2, dL_dz = self.conv_layer2.backward(dL_dz)\n",
        "        dL_dz = self.relu1.backward(dL_dz)\n",
        "        dL_dB1, dL_dW1, dL_dZ = self.conv_layer1.backward(dL_dz)\n",
        "        return dL_dB1, dL_dW1[0], dL_dB2, dL_dW2[0], dL_db3, dL_dW3"
      ]
    },
    {
      "cell_type": "code",
      "execution_count": 15,
      "metadata": {
        "colab": {
          "base_uri": "https://localhost:8080/"
        },
        "id": "KbuBvvSGIlLg",
        "outputId": "f90fe7e3-e0b4-4e35-cf8b-150ae2196bd9"
      },
      "outputs": [
        {
          "data": {
            "text/plain": [
              "array([[0.03620474],\n",
              "       [0.13700877],\n",
              "       [0.05878997],\n",
              "       [0.06798458],\n",
              "       [0.16636435],\n",
              "       [0.12497993],\n",
              "       [0.07763643],\n",
              "       [0.16879028],\n",
              "       [0.03930202],\n",
              "       [0.12293893]])"
            ]
          },
          "execution_count": 15,
          "metadata": {},
          "output_type": "execute_result"
        }
      ],
      "source": [
        "# check the forward propagation for the first image in the train set\n",
        "cnn = CNN()\n",
        "cnn.forward(x_train[0])"
      ]
    },
    {
      "cell_type": "code",
      "execution_count": 17,
      "metadata": {
        "colab": {
          "base_uri": "https://localhost:8080/"
        },
        "id": "jcX8hw92IlLg",
        "outputId": "20edf461-dfd1-416c-8bdc-7183d4e1990c"
      },
      "outputs": [
        {
          "data": {
            "text/plain": [
              "((1, 28, 28), (1, 5, 5), (1, 28, 28), (1, 3, 3), (10, 1), (10, 784))"
            ]
          },
          "execution_count": 17,
          "metadata": {},
          "output_type": "execute_result"
        }
      ],
      "source": [
        "# check the shapes of output of the backward propagation\n",
        "dL_dB1, dL_dW11, dL_dB2, dL_dW2, dL_db3, dL_dW3 = cnn.backward(np.ones((1, 10)))\n",
        "dL_dB1.shape, dL_dW11.shape, dL_dB2.shape, dL_dW2.shape, dL_db3.shape, dL_dW3.shape"
      ]
    },
    {
      "cell_type": "markdown",
      "metadata": {},
      "source": [
        "### Perform the Mini-Batch Gradient Descent"
      ]
    },
    {
      "cell_type": "code",
      "execution_count": 18,
      "metadata": {
        "colab": {
          "base_uri": "https://localhost:8080/"
        },
        "id": "5jlSYX5qIlLh",
        "outputId": "d422221d-ef1a-4053-843a-13134766bdd0"
      },
      "outputs": [
        {
          "name": "stderr",
          "output_type": "stream",
          "text": [
            "  0%|          | 0/10 [00:00<?, ?it/s]"
          ]
        },
        {
          "name": "stderr",
          "output_type": "stream",
          "text": [
            "100%|██████████| 10/10 [06:46<00:00, 40.68s/it]\n"
          ]
        }
      ],
      "source": [
        "# define the batch size\n",
        "batch_size = 32\n",
        "\n",
        "# define the number of epochs\n",
        "num_epochs = 10\n",
        "\n",
        "# define the learning rate\n",
        "eta = 1.0\n",
        "\n",
        "# define the number of batches\n",
        "num_batches = len(x_train) // batch_size\n",
        "\n",
        "# perform the Mini-Batch Gradient Descent\n",
        "\n",
        "# loop over the epochs\n",
        "for epoch in tqdm(range(num_epochs)):\n",
        "\n",
        "    # initialize the gradients\n",
        "    dL_db1 = np.zeros_like(cnn.b1)\n",
        "    dL_db2 = np.zeros_like(cnn.b2)\n",
        "    dL_db3 = np.zeros_like(cnn.b3)\n",
        "    dL_dW1 = np.zeros_like(cnn.conv_layer1.filters[0])\n",
        "    dL_dW2 = np.zeros_like(cnn.conv_layer2.filters[0])\n",
        "    dL_dW3 = np.zeros_like(cnn.W3)\n",
        "\n",
        "    # loop over the batches\n",
        "    for batch in range(1, num_batches + 1):\n",
        "        # get the batch data\n",
        "        batch_x = x_train[(batch-1)*batch_size:batch*batch_size]\n",
        "        batch_y = y_train_vec[(batch-1)*batch_size:batch*batch_size]\n",
        "        \n",
        "        # loop over the batch data\n",
        "        for x, y in zip(batch_x, batch_y):\n",
        "\n",
        "            # perform forward propagation\n",
        "            y_hat = cnn.forward(x).reshape(-1)\n",
        "            \n",
        "            # compute the loss\n",
        "            l = -np.sum(y * np.log(y_hat))\n",
        "\n",
        "            # compute the gradient of the loss \n",
        "            grad_l = -y / y_hat\n",
        "\n",
        "            # compute the gradients\n",
        "            dL_db1_i, dL_dW1_i, dL_db2_i, dL_dW2_i, dL_db3_i, dL_dW3_i = cnn.backward(grad_l)\n",
        "            dL_db1 += dL_db1_i\n",
        "            dL_db2 += dL_db2_i\n",
        "            dL_db3 += dL_db3_i\n",
        "            dL_dW1 += dL_dW1_i\n",
        "            dL_dW2 += dL_dW2_i\n",
        "            dL_dW3 += dL_dW3_i\n",
        "\n",
        "\n",
        "       # update the weights and biases\n",
        "        cnn.b1 -= eta * dL_db1 / batch_size\n",
        "        cnn.conv_layer1.filters[0] -= eta * dL_dW1 / batch_size\n",
        "        cnn.b2 -= eta * dL_db2 / batch_size\n",
        "        cnn.conv_layer2.filters[0] -= eta * dL_dW2 / batch_size\n",
        "        cnn.b3 -= eta * dL_db3 / batch_size\n",
        "        cnn.W3 -= eta * dL_dW3 / batch_size\n"
      ]
    },
    {
      "cell_type": "code",
      "execution_count": 19,
      "metadata": {
        "colab": {
          "base_uri": "https://localhost:8080/"
        },
        "id": "QmYPgM_TIlLh",
        "outputId": "2decea5b-2df9-4984-9b4d-1058155a2cab"
      },
      "outputs": [
        {
          "name": "stdout",
          "output_type": "stream",
          "text": [
            "Accuracy: 0.7510\n"
          ]
        }
      ],
      "source": [
        "# evaluate the model on the test set\n",
        "y_pred = []\n",
        "\n",
        "# loop over test images\n",
        "for x in x_test:\n",
        "    # perform forward propagation to get the predicted label\n",
        "    y_hat = cnn.forward(x)\n",
        "    y_pred.append(np.argmax(y_hat))\n",
        "\n",
        "# calculate the accuracy\n",
        "accuracy = sum(y_pred == y_test) / len(y_test)\n",
        "print(f\"Accuracy: {accuracy:.4f}\")"
      ]
    },
    {
      "cell_type": "markdown",
      "metadata": {},
      "source": [
        "The obtained accuracy of the CNN model (with architecture from lecture slides and padding added) on MNIST test dataset is $75.1$%. This indicates an improvement by approximately $2$%, comparing with the result of the previous lab."
      ]
    },
    {
      "cell_type": "markdown",
      "metadata": {
        "id": "X6N9t9PMVWjY"
      },
      "source": [
        "## Task 2\n",
        "\n",
        "Code a function that takes as inputs the size of the input image and the desired size of the output image size at the k-th CONV-layer, and produces as output the appropriate padding and filter sizes, such that the amount of padding is minimized."
      ]
    },
    {
      "cell_type": "code",
      "execution_count": 20,
      "metadata": {
        "id": "77AFD5sAMU5F"
      },
      "outputs": [],
      "source": [
        "def get_pad_and_filter_size(input_size, output_size):\n",
        "    h_in, w_in = input_size\n",
        "    h_out, w_out = output_size\n",
        "    \n",
        "    # the size of the filter W and size of the padding if no padding is applied\n",
        "    W_size = [h_in - h_out + 1, w_in - w_out + 1]\n",
        "    pad_size = [0, 0]\n",
        "    \n",
        "    \n",
        "    # if the filter W size is less than 1 in either dimension, needed to add padding\n",
        "    if W_size[0] < 1:\n",
        "        size_dif = 1 - W_size[0]\n",
        "        if size_dif % 2 == 0:\n",
        "            pad_size[0] = size_dif // 2 \n",
        "            W_size[0] += size_dif\n",
        "            \n",
        "        else:\n",
        "            pad_size[0] = (size_dif + 1) // 2 \n",
        "            W_size[0] += size_dif + 1\n",
        "    \n",
        "    # if the filter W size is less than 1 in either dimension, needed to add padding     \n",
        "    if W_size[1] < 1:\n",
        "        size_dif = 1 - W_size[1]\n",
        "        if size_dif % 2 == 0:\n",
        "            pad_size[1] = size_dif // 2 \n",
        "            W_size[1] += size_dif\n",
        "            \n",
        "        else:\n",
        "            pad_size[1] = (size_dif + 1) // 2 \n",
        "            W_size[1] += size_dif + 1\n",
        "        \n",
        "    \n",
        "    return pad_size, W_size"
      ]
    },
    {
      "cell_type": "code",
      "execution_count": 21,
      "metadata": {
        "id": "EUj7m6HDMYG8"
      },
      "outputs": [
        {
          "name": "stdout",
          "output_type": "stream",
          "text": [
            "Padding size for the convolutional layer: [1, 1]\n",
            "Filter size for the convolutional layer: [2, 2]\n"
          ]
        }
      ],
      "source": [
        "# some example\n",
        "print('Padding size for the convolutional layer:', get_pad_and_filter_size(input_size=[28, 28], output_size=[29, 29])[0])\n",
        "print('Filter size for the convolutional layer:', get_pad_and_filter_size(input_size=[28, 28], output_size=[29, 29])[1])"
      ]
    },
    {
      "cell_type": "code",
      "execution_count": 22,
      "metadata": {},
      "outputs": [
        {
          "name": "stdout",
          "output_type": "stream",
          "text": [
            "Padding size for the convolutional layer: [0, 0]\n",
            "Filter size for the convolutional layer: [7, 7]\n"
          ]
        }
      ],
      "source": [
        "# some example\n",
        "print('Padding size for the convolutional layer:', get_pad_and_filter_size(input_size=[28, 28], output_size=[22, 22])[0])\n",
        "print('Filter size for the convolutional layer:', get_pad_and_filter_size(input_size=[28, 28], output_size=[22, 22])[1])"
      ]
    }
  ],
  "metadata": {
    "accelerator": "GPU",
    "colab": {
      "gpuType": "T4",
      "provenance": []
    },
    "kernelspec": {
      "display_name": "Python 3",
      "name": "python3"
    },
    "language_info": {
      "codemirror_mode": {
        "name": "ipython",
        "version": 3
      },
      "file_extension": ".py",
      "mimetype": "text/x-python",
      "name": "python",
      "nbconvert_exporter": "python",
      "pygments_lexer": "ipython3",
      "version": "3.9.6"
    }
  },
  "nbformat": 4,
  "nbformat_minor": 0
}
